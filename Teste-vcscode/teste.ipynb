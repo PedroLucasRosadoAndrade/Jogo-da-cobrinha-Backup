{
 "cells": [
  {
   "cell_type": "code",
   "execution_count": 22,
   "metadata": {},
   "outputs": [],
   "source": [
    "import pyautogui as pa\n",
    "import pyperclip as py\n",
    "import time as te\n",
    "\n",
    "pa.PAUSE = 1\n",
    "\n",
    "pa.press('win')\n",
    "pa.write('opera')\n",
    "pa.press('enter')\n",
    "te.sleep(10)\n",
    "py.copy('https://github.com/PedroLucasRosadoAndrade/teste-automacao')\n",
    "pa.hotkey('ctrl', 'v')\n",
    "pa.press('enter')\n",
    "te.sleep(7)\n",
    "pa.click(x=1238, y=310)\n",
    "te.sleep(7)\n",
    "pa.click(x=1272, y=526)\n",
    "te.sleep(7)\n",
    "pa.press('win')\n",
    "pa.write('cmd')\n",
    "pa.press('enter')\n",
    "te.sleep(10)\n",
    "pa.write('cd documents')\n",
    "te.sleep(1)\n",
    "pa.press('enter')\n",
    "te.sleep(1)\n",
    "pa.write('cd GitHub')\n",
    "pa.press('enter')\n",
    "pa.write('git clone ')\n",
    "pa.hotkey('ctrl', 'v')\n"
   ]
  },
  {
   "cell_type": "code",
   "execution_count": 15,
   "metadata": {},
   "outputs": [
    {
     "name": "stdout",
     "output_type": "stream",
     "text": [
      "Point(x=1272, y=526)\n"
     ]
    }
   ],
   "source": [
    "import pyautogui as pa\n",
    "import time as te\n",
    "\n",
    "te.sleep(10)\n",
    "\n",
    "print(pa.position())"
   ]
  },
  {
   "cell_type": "code",
   "execution_count": 1,
   "metadata": {},
   "outputs": [
    {
     "ename": "ModuleNotFoundError",
     "evalue": "No module named 'webdriver_manager'",
     "output_type": "error",
     "traceback": [
      "\u001b[1;31m---------------------------------------------------------------------------\u001b[0m",
      "\u001b[1;31mModuleNotFoundError\u001b[0m                       Traceback (most recent call last)",
      "Cell \u001b[1;32mIn[1], line 2\u001b[0m\n\u001b[0;32m      1\u001b[0m \u001b[39mfrom\u001b[39;00m \u001b[39mselenium\u001b[39;00m \u001b[39mimport\u001b[39;00m webdriver\n\u001b[1;32m----> 2\u001b[0m \u001b[39mfrom\u001b[39;00m \u001b[39mwebdriver_manager\u001b[39;00m\u001b[39m.\u001b[39;00m\u001b[39mchrome\u001b[39;00m \u001b[39mimport\u001b[39;00m ChromeDriverManager\n\u001b[0;32m      3\u001b[0m \u001b[39mfrom\u001b[39;00m \u001b[39mselenium\u001b[39;00m\u001b[39m.\u001b[39;00m\u001b[39mwebdriver\u001b[39;00m\u001b[39m.\u001b[39;00m\u001b[39mchrome\u001b[39;00m\u001b[39m.\u001b[39;00m\u001b[39mservice\u001b[39;00m \u001b[39mimport\u001b[39;00m Service\n\u001b[0;32m      5\u001b[0m servico \u001b[39m=\u001b[39m Service(ChromeDriverManager()\u001b[39m.\u001b[39minstall())\n",
      "\u001b[1;31mModuleNotFoundError\u001b[0m: No module named 'webdriver_manager'"
     ]
    }
   ],
   "source": [
    "from selenium import webdriver\n",
    "from webdriver_manager.chrome import ChromeDriverManager\n",
    "from selenium.webdriver.chrome.service import Service\n",
    "\n",
    "servico = Service(ChromeDriverManager().install())\n",
    "\n",
    "navegador = webdriver.Chrome(service=servico)\n",
    "\n",
    "\n",
    "navegador.get(\"https://google.com\")\n",
    "\n",
    "navegador.findelement(By.XPATH, '//*[@id=\"APjFqb\"]').send_keys(\"Treino pl\")\n"
   ]
  }
 ],
 "metadata": {
  "kernelspec": {
   "display_name": "Python 3",
   "language": "python",
   "name": "python3"
  },
  "language_info": {
   "codemirror_mode": {
    "name": "ipython",
    "version": 3
   },
   "file_extension": ".py",
   "mimetype": "text/x-python",
   "name": "python",
   "nbconvert_exporter": "python",
   "pygments_lexer": "ipython3",
   "version": "3.11.2"
  },
  "orig_nbformat": 4
 },
 "nbformat": 4,
 "nbformat_minor": 2
}
